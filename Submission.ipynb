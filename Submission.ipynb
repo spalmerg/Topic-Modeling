{
 "cells": [
  {
   "cell_type": "code",
   "execution_count": 1,
   "metadata": {},
   "outputs": [],
   "source": [
    "# import libraries\n",
    "import csv\n",
    "import re, string\n",
    "import numpy as np\n",
    "import nltk\n",
    "import matplotlib.pyplot as plt\n",
    "\n",
    "from nltk.tokenize import word_tokenize\n",
    "from nltk.corpus import stopwords\n",
    "from nltk.stem import WordNetLemmatizer\n",
    "from gensim import corpora\n",
    "from gensim.models.ldamodel import LdaModel\n",
    "import pickle\n",
    "from gensim.test.utils import datapath\n",
    "from collections import Counter"
   ]
  },
  {
   "cell_type": "code",
   "execution_count": 2,
   "metadata": {},
   "outputs": [],
   "source": [
    "# read in data\n",
    "with open('ratemd.25k.all.txt') as f:\n",
    "    reader = csv.reader(f, delimiter=\"\\t\")\n",
    "    d = list(reader)\n",
    "    f.close()"
   ]
  },
  {
   "cell_type": "markdown",
   "metadata": {},
   "source": [
    "### Task 1\n",
    "\n",
    "#### Read in Data"
   ]
  },
  {
   "cell_type": "code",
   "execution_count": 3,
   "metadata": {},
   "outputs": [],
   "source": [
    "doctors, all_reviews, female_ratings, male_ratings = [], [], [], []\n",
    "\n",
    "for val in d: \n",
    "    if val[0].startswith(\"Dr.\"):\n",
    "        doctors.append(val[0])\n",
    "        gender = val[1].strip()\n",
    "    else:\n",
    "        rating = float(val[0].split()[2])\n",
    "        all_reviews.append(val[1])\n",
    "        if gender == 'Male':\n",
    "            male_ratings.append(rating)\n",
    "        if gender == 'Female': \n",
    "            female_ratings.append(rating)"
   ]
  },
  {
   "cell_type": "markdown",
   "metadata": {},
   "source": [
    "##### Fill Homework Table"
   ]
  },
  {
   "cell_type": "code",
   "execution_count": 4,
   "metadata": {},
   "outputs": [],
   "source": [
    "# tally up female ratings\n",
    "female_positive = sum(rating >= 4 for rating in female_ratings)\n",
    "female_negative = sum(rating < 4 for rating in female_ratings)\n",
    "\n",
    "# tally up male ratings\n",
    "male_positive = sum(rating >= 4 for rating in male_ratings)\n",
    "male_negative = sum(rating < 4 for rating in male_ratings)"
   ]
  },
  {
   "cell_type": "code",
   "execution_count": 5,
   "metadata": {
    "scrolled": false
   },
   "outputs": [
    {
     "name": "stdout",
     "output_type": "stream",
     "text": [
      "Female Total Counts: 4806\n",
      "Male Total Counts: 15615\n",
      "\n",
      "Female Positive Counts: 2686\n",
      "Female Negative Counts: 2120\n",
      "\n",
      "Male Positive Counts: 9877\n",
      "Male Negative Counts: 5738\n"
     ]
    }
   ],
   "source": [
    "# print counts\n",
    "print(\"Female Total Counts:\", female_positive + female_negative)\n",
    "print(\"Male Total Counts:\", male_positive + male_negative)\n",
    "print()\n",
    "print(\"Female Positive Counts:\", female_positive)\n",
    "print(\"Female Negative Counts:\", female_negative)\n",
    "print()\n",
    "print(\"Male Positive Counts:\", male_positive)\n",
    "print(\"Male Negative Counts:\", male_negative)"
   ]
  },
  {
   "cell_type": "code",
   "execution_count": 6,
   "metadata": {},
   "outputs": [
    {
     "name": "stdout",
     "output_type": "stream",
     "text": [
      "TOTAL: 20421\n",
      "\n",
      "% Female Reviews: 0.24\n",
      "% Male Reviews: 0.76\n",
      "\n",
      "Female Reviews, Positive %: 0.56\n",
      "Female Reviews, Negative %: 0.44\n",
      "\n",
      "Male Reviews, Positive %: 0.63\n",
      "Male Reviews, Negative %: 0.37\n"
     ]
    }
   ],
   "source": [
    "# print percentages\n",
    "total = male_positive + male_negative + female_positive + female_negative\n",
    "print(\"TOTAL:\", total)\n",
    "print()\n",
    "print(\"% Female Reviews:\", np.round((female_positive + female_negative)/total,2))\n",
    "print(\"% Male Reviews:\", np.round((male_positive + male_negative)/total,2))\n",
    "print()\n",
    "print(\"Female Reviews, Positive %:\", np.round(female_positive/(female_positive + female_negative),2))\n",
    "print(\"Female Reviews, Negative %:\", np.round(female_negative/(female_positive + female_negative),2))\n",
    "print()\n",
    "print(\"Male Reviews, Positive %:\", np.round(male_positive/(male_positive + male_negative),2))\n",
    "print(\"Male Reviews, Negative %:\", np.round(male_negative/(male_positive + male_negative),2))"
   ]
  },
  {
   "cell_type": "markdown",
   "metadata": {},
   "source": [
    "##### Corpus Comments"
   ]
  },
  {
   "cell_type": "code",
   "execution_count": 7,
   "metadata": {},
   "outputs": [
    {
     "name": "stdout",
     "output_type": "stream",
     "text": [
      "Number of Reviews: 20421\n",
      "Number of Doctors Reviewed: 4579\n",
      "Average Reviews per Doctor: 4.46\n"
     ]
    }
   ],
   "source": [
    "print(\"Number of Reviews:\", len(all_reviews))\n",
    "print(\"Number of Doctors Reviewed:\", len(doctors))\n",
    "print(\"Average Reviews per Doctor:\", np.round(len(all_reviews)/len(doctors),2))"
   ]
  },
  {
   "cell_type": "code",
   "execution_count": 8,
   "metadata": {},
   "outputs": [],
   "source": [
    "# use word_tokenize to get the length of each review\n",
    "review_lengths = []\n",
    "for review in all_reviews:\n",
    "    review_lengths.append(len(nltk.word_tokenize(review)))"
   ]
  },
  {
   "cell_type": "code",
   "execution_count": 9,
   "metadata": {},
   "outputs": [
    {
     "name": "stdout",
     "output_type": "stream",
     "text": [
      "Min Review Size: 0 tokens\n",
      "Max Review Size: 1028 tokens\n",
      "Avg Review Size: 70.82 tokens\n"
     ]
    }
   ],
   "source": [
    "print(\"Min Review Size:\", min(review_lengths), \"tokens\")\n",
    "print(\"Max Review Size:\", max(review_lengths), \"tokens\")\n",
    "print(\"Avg Review Size:\", np.round(np.mean(review_lengths),2), \"tokens\")"
   ]
  },
  {
   "cell_type": "code",
   "execution_count": 10,
   "metadata": {},
   "outputs": [
    {
     "data": {
      "text/plain": [
       "Text(0,0.5,'Number of Reviews')"
      ]
     },
     "execution_count": 10,
     "metadata": {},
     "output_type": "execute_result"
    },
    {
     "data": {
      "image/png": "[encoded data removed]",
      "text/plain": [
       "<matplotlib.figure.Figure at 0x128dd4390>"
      ]
     },
     "metadata": {},
     "output_type": "display_data"
    }
   ],
   "source": [
    "plt.hist(review_lengths)\n",
    "plt.title('Review Lengths')\n",
    "plt.xlabel('Review Length')\n",
    "plt.ylabel('Number of Reviews')"
   ]
  },
  {
   "cell_type": "markdown",
   "metadata": {},
   "source": [
    "### Task 2"
   ]
  },
  {
   "cell_type": "markdown",
   "metadata": {},
   "source": [
    "#### Clean the Corpus"
   ]
  },
  {
   "cell_type": "code",
   "execution_count": 52,
   "metadata": {},
   "outputs": [],
   "source": [
    "# make reviews lowercase\n",
    "lower_reviews = [review.lower() for review in all_reviews]\n",
    "\n",
    "# remove punctuation\n",
    "translator = str.maketrans('', '', string.punctuation)\n",
    "no_punctuation = [review.translate(translator) for review in lower_reviews]\n",
    "\n",
    "# remove non-verbose reviews\n",
    "verbose = []\n",
    "for review in no_punctuation:\n",
    "    if len(review.split()) > 2:\n",
    "        verbose.append(review)"
   ]
  },
  {
   "cell_type": "code",
   "execution_count": 53,
   "metadata": {},
   "outputs": [],
   "source": [
    "# get canned english_stop words\n",
    "english_stop = stopwords.words('english')\n",
    "\n",
    "# join all reviews to find common words\n",
    "combined_reviews = word_tokenize(' '.join(verbose))\n",
    "word_freq = Counter(combined_reviews)\n",
    "\n",
    "# find most common words\n",
    "top_stop = word_freq.most_common(200)\n",
    "stop_freq = [val[0] for val in top_stop]\n",
    "\n",
    "# find least common words\n",
    "stop_infreq = [key for key, value in word_freq.items() if value < 10]\n",
    "\n",
    "# find doctors' last names\n",
    "last = []\n",
    "for i in doctors:\n",
    "    split = i.split()\n",
    "    last.append(split[-1].lower())\n",
    "    \n",
    "# remove numbers\n",
    "numbers = [num for num in list(word_freq.keys()) if num.isdigit()]\n",
    "\n",
    "# make all stop word list\n",
    "stop_words = english_stop + stop_freq + stop_infreq + [\"’\"] + last + numbers"
   ]
  },
  {
   "cell_type": "code",
   "execution_count": 54,
   "metadata": {},
   "outputs": [],
   "source": [
    "# Function to remove stop words from sentences & lemmatize verbs and nouns. \n",
    "def clean(doc, stop_words, lemmantize = False):\n",
    "    # tokenize\n",
    "    tokenized = word_tokenize(doc)\n",
    "    # remove stop words\n",
    "    result = [word for word in tokenized if word not in stop_words]\n",
    "    # lemmantize condition\n",
    "    if lemmantize:\n",
    "        lemmatizer = WordNetLemmatizer()\n",
    "        result = [lemmatizer.lemmatize(word,'v') for word in result]\n",
    "        result = [lemmatizer.lemmatize(word,'n') for word in result]\n",
    "        result = [s for s in result if len(s) > 2]\n",
    "    return result"
   ]
  },
  {
   "cell_type": "markdown",
   "metadata": {},
   "source": [
    "### Problem 1: No Lematization"
   ]
  },
  {
   "cell_type": "code",
   "execution_count": 55,
   "metadata": {},
   "outputs": [],
   "source": [
    "# apply clean function to each review\n",
    "corpus_clean = [clean(review.strip(), stop_words, False) for review in verbose]\n",
    "\n",
    "# find a unique id for each unique term\n",
    "dictionary = corpora.Dictionary(corpus_clean)\n",
    "\n",
    "# convert tokenized documents into a document-term matrix\n",
    "# structured (term ID, term frequency)\n",
    "corpus = [dictionary.doc2bow(doc_clean) for doc_clean in corpus_clean]\n",
    "\n",
    "# LDA model needs many iterations/passes and a large corpus to work well\n",
    "# must define the number of topics you want to extract from the corpus\n",
    "ldamodel = LdaModel(corpus, num_topics=10, id2word = dictionary, passes=20, iterations=2000)"
   ]
  },
  {
   "cell_type": "code",
   "execution_count": 56,
   "metadata": {
    "scrolled": false
   },
   "outputs": [
    {
     "data": {
      "text/plain": [
       "[['son',\n",
       "  'child',\n",
       "  'baby',\n",
       "  'daughter',\n",
       "  'pregnancy',\n",
       "  'children',\n",
       "  'delivered',\n",
       "  'pregnant',\n",
       "  'old',\n",
       "  'husband'],\n",
       " ['husband',\n",
       "  'cancer',\n",
       "  'breast',\n",
       "  'hospital',\n",
       "  'er',\n",
       "  'knowledge',\n",
       "  'top',\n",
       "  'free',\n",
       "  'area',\n",
       "  'research'],\n",
       " ['amazing',\n",
       "  'truly',\n",
       "  'cares',\n",
       "  'compassionate',\n",
       "  'thank',\n",
       "  'awesome',\n",
       "  'everyone',\n",
       "  'helped',\n",
       "  'comfortable',\n",
       "  'friends'],\n",
       " ['waiting',\n",
       "  'phone',\n",
       "  'hours',\n",
       "  'hour',\n",
       "  'appt',\n",
       "  'waited',\n",
       "  'calls',\n",
       "  'exam',\n",
       "  'front',\n",
       "  'late'],\n",
       " ['thorough',\n",
       "  'concerns',\n",
       "  'listens',\n",
       "  'health',\n",
       "  'easy',\n",
       "  'talk',\n",
       "  'knowledgable',\n",
       "  'things',\n",
       "  'understand',\n",
       "  'makes'],\n",
       " ['months',\n",
       "  'saw',\n",
       "  'second',\n",
       "  'later',\n",
       "  'weeks',\n",
       "  'knee',\n",
       "  'opinion',\n",
       "  'year',\n",
       "  'ago',\n",
       "  'procedure'],\n",
       " ['worst',\n",
       "  'money',\n",
       "  'horrible',\n",
       "  'wrong',\n",
       "  'test',\n",
       "  'pay',\n",
       "  'bad',\n",
       "  'unprofessional',\n",
       "  'terrible',\n",
       "  'nothing'],\n",
       " ['procedure',\n",
       "  'skin',\n",
       "  'look',\n",
       "  'face',\n",
       "  'removed',\n",
       "  'foot',\n",
       "  'body',\n",
       "  'hip',\n",
       "  'bad',\n",
       "  'area'],\n",
       " ['medication',\n",
       "  'diagnosed',\n",
       "  'blood',\n",
       "  'months',\n",
       "  'hospital',\n",
       "  'condition',\n",
       "  'right',\n",
       "  'tests',\n",
       "  'symptoms',\n",
       "  'home'],\n",
       " ['listen',\n",
       "  'else',\n",
       "  'side',\n",
       "  'health',\n",
       "  'medicine',\n",
       "  'try',\n",
       "  'seems',\n",
       "  'think',\n",
       "  'issues',\n",
       "  'gives']]"
      ]
     },
     "execution_count": 56,
     "metadata": {},
     "output_type": "execute_result"
    }
   ],
   "source": [
    "num_topics = 10\n",
    "no_lem = []\n",
    "for i in range(num_topics):\n",
    "    tt = ldamodel.get_topic_terms(i,10)\n",
    "    no_lem.append([dictionary[pair[0]] for pair in tt])\n",
    "\n",
    "no_lem"
   ]
  },
  {
   "cell_type": "markdown",
   "metadata": {},
   "source": [
    "### Problem 2: Lemmatization"
   ]
  },
  {
   "cell_type": "code",
   "execution_count": 57,
   "metadata": {
    "scrolled": true
   },
   "outputs": [],
   "source": [
    "# apply clean function to each review\n",
    "corpus_clean = [clean(review.strip(), stop_words, True) for review in verbose]\n",
    "\n",
    "# find a unique id for each unique term\n",
    "dictionary = corpora.Dictionary(corpus_clean)\n",
    "\n",
    "# convert tokenized documents into a document-term matrix\n",
    "# structured (term ID, term frequency)\n",
    "corpus = [dictionary.doc2bow(doc_clean) for doc_clean in corpus_clean]\n",
    "\n",
    "# filter out non-frequent words\n",
    "new_corpus = []\n",
    "for doc in corpus:\n",
    "    new_list = []\n",
    "    for word_count in doc:\n",
    "        if word_count[1] > 3:\n",
    "            new_list.append(word_count)\n",
    "    new_corpus.append(new_list)\n",
    "\n",
    "# LDA model needs many iterations/passes and a large corpus to work well\n",
    "# must define the number of topics you want to extract from the corpus\n",
    "ldamodel = LdaModel(new_corpus, num_topics=10, id2word = dictionary, passes=20, iterations=2000)"
   ]
  },
  {
   "cell_type": "code",
   "execution_count": 58,
   "metadata": {
    "scrolled": false
   },
   "outputs": [
    {
     "data": {
      "text/plain": [
       "[['doc',\n",
       "  'cancer',\n",
       "  'state',\n",
       "  'month',\n",
       "  'speak',\n",
       "  'symptom',\n",
       "  'phone',\n",
       "  'lab',\n",
       "  'record',\n",
       "  'receive'],\n",
       " ['test',\n",
       "  'eye',\n",
       "  'come',\n",
       "  'pap',\n",
       "  'order',\n",
       "  'script',\n",
       "  'later',\n",
       "  'lasik',\n",
       "  'front',\n",
       "  'side'],\n",
       " ['procedure',\n",
       "  'breast',\n",
       "  'implant',\n",
       "  'follow',\n",
       "  'explain',\n",
       "  'able',\n",
       "  'late',\n",
       "  'code',\n",
       "  'want',\n",
       "  'infection'],\n",
       " ['daughter',\n",
       "  'tooth',\n",
       "  'exam',\n",
       "  'baby',\n",
       "  'decide',\n",
       "  'money',\n",
       "  'cavity',\n",
       "  'routine',\n",
       "  'therapy',\n",
       "  'health'],\n",
       " ['mri',\n",
       "  'dad',\n",
       "  'vein',\n",
       "  'specialist',\n",
       "  'scar',\n",
       "  'condition',\n",
       "  'kid',\n",
       "  'program',\n",
       "  'comp',\n",
       "  'ivf'],\n",
       " ['husband',\n",
       "  'thyroid',\n",
       "  'prescription',\n",
       "  'seem',\n",
       "  'leak',\n",
       "  'tip',\n",
       "  'ovary',\n",
       "  'ear',\n",
       "  'sister',\n",
       "  'forget'],\n",
       " ['son',\n",
       "  'bill',\n",
       "  'child',\n",
       "  'father',\n",
       "  'wife',\n",
       "  'nose',\n",
       "  'hour',\n",
       "  'give',\n",
       "  'hand',\n",
       "  'hip'],\n",
       " ['mother',\n",
       "  'look',\n",
       "  'clinic',\n",
       "  'hospital',\n",
       "  'refill',\n",
       "  'cigna',\n",
       "  'sign',\n",
       "  'schedule',\n",
       "  'colonoscopy',\n",
       "  'book'],\n",
       " ['medication',\n",
       "  'try',\n",
       "  'start',\n",
       "  'birth',\n",
       "  'arm',\n",
       "  'body',\n",
       "  'psychiatrist',\n",
       "  'severe',\n",
       "  'use',\n",
       "  'tech'],\n",
       " ['appt',\n",
       "  'wait',\n",
       "  'week',\n",
       "  'pay',\n",
       "  'think',\n",
       "  'flu',\n",
       "  'ask',\n",
       "  'steroid',\n",
       "  'walk',\n",
       "  'woman']]"
      ]
     },
     "execution_count": 58,
     "metadata": {},
     "output_type": "execute_result"
    }
   ],
   "source": [
    "num_topics = 10\n",
    "lem = []\n",
    "for i in range(num_topics):\n",
    "    tt = ldamodel.get_topic_terms(i,10)\n",
    "    lem.append([dictionary[pair[0]] for pair in tt])\n",
    "lem"
   ]
  }
 ],
 "metadata": {
  "kernelspec": {
   "display_name": "Python 3",
   "language": "python",
   "name": "python3"
  },
  "language_info": {
   "codemirror_mode": {
    "name": "ipython",
    "version": 3
   },
   "file_extension": ".py",
   "mimetype": "text/x-python",
   "name": "python",
   "nbconvert_exporter": "python",
   "pygments_lexer": "ipython3",
   "version": "3.6.4"
  }
 },
 "nbformat": 4,
 "nbformat_minor": 2
}
